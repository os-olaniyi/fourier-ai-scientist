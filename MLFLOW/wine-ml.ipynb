{
 "cells": [
  {
   "cell_type": "markdown",
   "metadata": {},
   "source": [
    "**`Compare runs; using hyperparameter tuning, Choose a model & Deploy it to a REST API`**"
   ]
  },
  {
   "cell_type": "markdown",
   "metadata": {},
   "source": [
    "In this section, the following will be carried out;\n",
    "\n",
    "- Run a hyperparameter sweep using `hyperopt`.\n",
    "- Compare results of the runs in the MLflow UI.\n",
    "- Choose the best run and register it as a model.\n",
    "- Deploy the model to a REST API\n",
    "- Build a container image suitable for deployment to a cloud environment."
   ]
  },
  {
   "cell_type": "code",
   "execution_count": 1,
   "metadata": {},
   "outputs": [
    {
     "name": "stdout",
     "output_type": "stream",
     "text": [
      "WARNING:tensorflow:From c:\\Users\\DELL\\anaconda3\\Lib\\site-packages\\keras\\src\\losses.py:2976: The name tf.losses.sparse_softmax_cross_entropy is deprecated. Please use tf.compat.v1.losses.sparse_softmax_cross_entropy instead.\n",
      "\n"
     ]
    }
   ],
   "source": [
    "import warnings\n",
    "warnings.filterwarnings(\"ignore\", category = DeprecationWarning)\n",
    "\n",
    "import keras\n",
    "import numpy as np\n",
    "import pandas as pd\n",
    "import mlflow\n",
    "\n",
    "from mlflow.models import infer_signature\n",
    "from hyperopt import STATUS_OK, Trials, fmin, hp, tpe\n",
    "from sklearn.metrics import mean_squared_error\n",
    "from sklearn.model_selection import train_test_split\n"
   ]
  },
  {
   "cell_type": "code",
   "execution_count": 2,
   "metadata": {},
   "outputs": [],
   "source": [
    "\"\"\" RUN THE COMMAND BELOW IN THE TERMINAL. \"\"\"\n",
    "# export MLFOW_TRACKING_URI=http://localhost:5000\n",
    "\n",
    "mlflow.set_tracking_uri(uri = \"http://127.0.0.1:8080\")"
   ]
  },
  {
   "cell_type": "markdown",
   "metadata": {},
   "source": [
    "Now load the Dataset and split into it into training, validation and test sets."
   ]
  },
  {
   "cell_type": "code",
   "execution_count": 3,
   "metadata": {},
   "outputs": [],
   "source": [
    "data = pd.read_csv(\n",
    "    \"https://raw.githubusercontent.com/mlflow/mlflow/master/tests/datasets/winequality-white.csv\",\n",
    "    sep = \";\"\n",
    ")"
   ]
  },
  {
   "cell_type": "code",
   "execution_count": 4,
   "metadata": {},
   "outputs": [],
   "source": [
    "train, test = train_test_split(data, test_size = 0.25, random_state = 42)\n",
    "train_X = train.drop([\"quality\"], axis = 1).values\n",
    "train_y = train[[\"quality\"]].values.ravel()\n",
    "test_X = test.drop([\"quality\"], axis = 1).values\n",
    "test_y = test[[\"quality\"]].values.ravel()\n",
    "\n",
    "train_X, validation_X, train_y, validation_y = train_test_split(\n",
    "    train_X, train_y, test_size = 0.2, random_state = 42\n",
    ")"
   ]
  },
  {
   "cell_type": "code",
   "execution_count": 5,
   "metadata": {},
   "outputs": [],
   "source": [
    "# Infer madel signature.\n",
    "\n",
    "signature = infer_signature(train_X, train_y)"
   ]
  },
  {
   "cell_type": "markdown",
   "metadata": {},
   "source": [
    "Define the Model Architecture.\n",
    "\n",
    "\n",
    "The model uses MLFlow to track the `parameters`, `results`, and the `model` itself of each trail as a child run."
   ]
  },
  {
   "cell_type": "code",
   "execution_count": 6,
   "metadata": {},
   "outputs": [],
   "source": [
    "def model_train(params, epochs, train_X, train_y, validation_X, validation_y, test_X, test_y):\n",
    "    mean = np.mean(train_X, axis = 0)\n",
    "    var = np.var(train_X, axis = 0)\n",
    "    \n",
    "    model = keras.Sequential(\n",
    "        [\n",
    "            keras.Input([train_X.shape[1]]),\n",
    "            keras.layers.Normalization(mean = mean, variance = var),\n",
    "            keras.layers.Dense(64, activation = \"relu\"),\n",
    "            keras.layers.Dense(1)\n",
    "        ]\n",
    "    )\n",
    "    \n",
    "    # Compile model\n",
    "    model.compile(\n",
    "        optimizer = keras.optimizers.SGD(\n",
    "            learning_rate = params[\"lr\"],\n",
    "            momentum = params[\"momentum\"]\n",
    "        ),\n",
    "        loss = \"mean_squared_error\",\n",
    "        metrics = [keras.metrics.RootMeanSquaredError()]\n",
    "    )\n",
    "    \n",
    "    # Train the model MLflow tracking\n",
    "    \n",
    "    with mlflow.start_run(nested = True):\n",
    "        model.fit(\n",
    "            train_X,\n",
    "            train_y,\n",
    "            validation_data = (validation_X, validation_y),\n",
    "            epochs = epochs,\n",
    "            batch_size = 64\n",
    "        )\n",
    "        \n",
    "        # Evaluate the model\n",
    "        eval_result = model.evaluate(validation_X, validation_y, batch_size = 64)\n",
    "        eval_rmse = eval_result[1]\n",
    "        \n",
    "        # Log parameters and results\n",
    "        mlflow.log_params(params = params)\n",
    "        mlflow.log_metric(\"eval_rmse\", eval_rmse)\n",
    "        \n",
    "        # Log model.\n",
    "        mlflow.tensorflow.log_model(model, \"model\", signature = signature)\n",
    "        \n",
    "        return {\"loss\": eval_rmse, \"status\": STATUS_OK, \"model\": model}"
   ]
  },
  {
   "cell_type": "markdown",
   "metadata": {},
   "source": [
    "Define an Objective function.\n",
    "\n",
    "This function takes the `hyperparameters` and returns the `results` of the **model_train** function for that set of `hyperparameters`."
   ]
  },
  {
   "cell_type": "code",
   "execution_count": 7,
   "metadata": {},
   "outputs": [],
   "source": [
    "def objective(params):\n",
    "    # MLFlow will track the hyperparameters & results for each run.\n",
    "    \n",
    "    result = model_train(\n",
    "        params = params,\n",
    "        epochs = 3,\n",
    "        train_X = train_X,\n",
    "        train_y = train_y,\n",
    "        validation_X = validation_X,\n",
    "        validation_y = validation_y,\n",
    "        test_X = test_X,\n",
    "        test_y = test_y\n",
    "    )\n",
    "    return result"
   ]
  },
  {
   "cell_type": "markdown",
   "metadata": {},
   "source": [
    "Define the Search Space.\n",
    "\n",
    "Next, we will define the search space for `Hyperopt`. In this case, we want to try different values of `learning-rate` and `momentum`. Hyperopt begins its optimization process by selecting an initial set of `hyperparameters`, typically chosen at random or based on a specified domain space. This domain space defines the range and distribution of possible values for each hyperparameter. After evaluating the initial set, Hyperopt uses the results to update its `probabilistic model`, guiding the selection of subsequent hyperparameter sets in a more informed manner, aiming to converge towards the optimal solution."
   ]
  },
  {
   "cell_type": "code",
   "execution_count": 8,
   "metadata": {},
   "outputs": [],
   "source": [
    "space = {\n",
    "    \"lr\": hp.loguniform(\"lr\", np.log(1e-5), np.log(1e-1)),\n",
    "    \"momentum\": hp.uniform(\"momentum\", 0.0, 1.0)\n",
    "}"
   ]
  },
  {
   "cell_type": "markdown",
   "metadata": {},
   "source": [
    "Set MLflow Experiments & runs.\n",
    "\n",
    "Finally, we will run the `hyperparameter` sweep using `Hyperopt`, passing in the `objective function` and `search space`. Hyperopt will try different hyperparameter combinations and return the results of the best one. We will store the best parameters, model, and evaluation metrics in `MLflow`."
   ]
  },
  {
   "cell_type": "code",
   "execution_count": 9,
   "metadata": {},
   "outputs": [
    {
     "name": "stdout",
     "output_type": "stream",
     "text": [
      "  0%|          | 0/12 [00:00<?, ?trial/s, best loss=?]WARNING:tensorflow:From c:\\Users\\DELL\\anaconda3\\Lib\\site-packages\\keras\\src\\backend.py:1398: The name tf.executing_eagerly_outside_functions is deprecated. Please use tf.compat.v1.executing_eagerly_outside_functions instead.\n",
      "\n",
      "Epoch 1/3                                             \n",
      "\n",
      "  0%|          | 0/12 [00:00<?, ?trial/s, best loss=?]WARNING:tensorflow:From c:\\Users\\DELL\\anaconda3\\Lib\\site-packages\\keras\\src\\utils\\tf_utils.py:492: The name tf.ragged.RaggedTensorValue is deprecated. Please use tf.compat.v1.ragged.RaggedTensorValue instead.\n",
      "\n",
      " 1/46 [..............................] - ETA: 28s - loss: 34.0051 - root_mean_squared_error: 5.8314\n",
      "39/46 [========================>.....] - ETA: 0s - loss: 3.7812 - root_mean_squared_error: 1.9445  \n",
      "46/46 [==============================] - 1s 7ms/step - loss: 3.3792 - root_mean_squared_error: 1.8383 - val_loss: 1.2473 - val_root_mean_squared_error: 1.1168\n",
      "\n",
      "Epoch 2/3                                             \n",
      "\n",
      " 1/46 [..............................] - ETA: 0s - loss: 1.2816 - root_mean_squared_error: 1.1321\n",
      "23/46 [==============>...............] - ETA: 0s - loss: 1.0255 - root_mean_squared_error: 1.0127\n",
      "46/46 [==============================] - 0s 3ms/step - loss: 0.9655 - root_mean_squared_error: 0.9826 - val_loss: 0.8338 - val_root_mean_squared_error: 0.9132\n",
      "\n",
      "Epoch 3/3                                             \n",
      "\n",
      " 1/46 [..............................] - ETA: 0s - loss: 0.9919 - root_mean_squared_error: 0.9959\n",
      "31/46 [===================>..........] - ETA: 0s - loss: 0.7665 - root_mean_squared_error: 0.8755\n",
      "46/46 [==============================] - 0s 3ms/step - loss: 0.7215 - root_mean_squared_error: 0.8494 - val_loss: 0.6700 - val_root_mean_squared_error: 0.8185\n",
      "\n",
      " 1/12 [=>............................] - ETA: 0s - loss: 0.5674 - root_mean_squared_error: 0.7533\n",
      "12/12 [==============================] - 0s 2ms/step - loss: 0.6700 - root_mean_squared_error: 0.8185\n",
      "\n",
      "  0%|          | 0/12 [00:02<?, ?trial/s, best loss=?]INFO:tensorflow:Assets written to: C:\\Users\\DELL\\AppData\\Local\\Temp\\tmppgx53zgr\\model\\data\\model\\assets\n"
     ]
    },
    {
     "name": "stderr",
     "output_type": "stream",
     "text": [
      "INFO:tensorflow:Assets written to: C:\\Users\\DELL\\AppData\\Local\\Temp\\tmppgx53zgr\\model\\data\\model\\assets\n",
      "\n",
      "c:\\Users\\DELL\\anaconda3\\Lib\\site-packages\\_distutils_hack\\__init__.py:33: UserWarning: Setuptools is replacing distutils.\n",
      "  warnings.warn(\"Setuptools is replacing distutils.\")\n",
      "\n"
     ]
    },
    {
     "name": "stdout",
     "output_type": "stream",
     "text": [
      "Epoch 1/3                                                                       \n",
      "\n",
      " 1/46 [..............................] - ETA: 22s - loss: 37.6915 - root_mean_squared_error: 6.1393\n",
      "40/46 [=========================>....] - ETA: 0s - loss: 5.0678 - root_mean_squared_error: 2.2512  \n",
      "46/46 [==============================] - 1s 6ms/step - loss: 4.6531 - root_mean_squared_error: 2.1571 - val_loss: 1.3548 - val_root_mean_squared_error: 1.1640\n",
      "\n",
      "Epoch 2/3                                                                       \n",
      "\n",
      " 1/46 [..............................] - ETA: 0s - loss: 1.7164 - root_mean_squared_error: 1.3101\n",
      "21/46 [============>.................] - ETA: 0s - loss: 1.2421 - root_mean_squared_error: 1.1145\n",
      "46/46 [==============================] - 0s 3ms/step - loss: 1.0915 - root_mean_squared_error: 1.0447 - val_loss: 1.0068 - val_root_mean_squared_error: 1.0034\n",
      "\n",
      "Epoch 3/3                                                                       \n",
      "\n",
      " 1/46 [..............................] - ETA: 0s - loss: 1.2226 - root_mean_squared_error: 1.1057\n",
      "40/46 [=========================>....] - ETA: 0s - loss: 0.8561 - root_mean_squared_error: 0.9253\n",
      "46/46 [==============================] - 0s 2ms/step - loss: 0.8456 - root_mean_squared_error: 0.9196 - val_loss: 0.7988 - val_root_mean_squared_error: 0.8937\n",
      "\n",
      " 1/12 [=>............................] - ETA: 0s - loss: 0.7323 - root_mean_squared_error: 0.8558\n",
      "12/12 [==============================] - 0s 2ms/step - loss: 0.7988 - root_mean_squared_error: 0.8937\n",
      "\n",
      "  8%|▊         | 1/12 [00:19<03:17, 17.95s/trial, best loss: 0.8185364603996277]INFO:tensorflow:Assets written to: C:\\Users\\DELL\\AppData\\Local\\Temp\\tmpzgjcn84j\\model\\data\\model\\assets\n"
     ]
    },
    {
     "name": "stderr",
     "output_type": "stream",
     "text": [
      "INFO:tensorflow:Assets written to: C:\\Users\\DELL\\AppData\\Local\\Temp\\tmpzgjcn84j\\model\\data\\model\\assets\n",
      "\n"
     ]
    },
    {
     "name": "stdout",
     "output_type": "stream",
     "text": [
      "Epoch 1/3                                                                       \n",
      "\n",
      " 1/46 [..............................] - ETA: 28s - loss: 31.5269 - root_mean_squared_error: 5.6149\n",
      "29/46 [=================>............] - ETA: 0s - loss: 30.5938 - root_mean_squared_error: 5.5312 \n",
      "46/46 [==============================] - 1s 7ms/step - loss: 30.5049 - root_mean_squared_error: 5.5231 - val_loss: 29.8034 - val_root_mean_squared_error: 5.4592\n",
      "\n",
      "Epoch 2/3                                                                       \n",
      "\n",
      " 1/46 [..............................] - ETA: 0s - loss: 27.5935 - root_mean_squared_error: 5.2530\n",
      "40/46 [=========================>....] - ETA: 0s - loss: 29.2862 - root_mean_squared_error: 5.4117\n",
      "46/46 [==============================] - 0s 2ms/step - loss: 29.2593 - root_mean_squared_error: 5.4092 - val_loss: 28.5909 - val_root_mean_squared_error: 5.3470\n",
      "\n",
      "Epoch 3/3                                                                       \n",
      "\n",
      " 1/46 [..............................] - ETA: 0s - loss: 29.1990 - root_mean_squared_error: 5.4036\n",
      "38/46 [=======================>......] - ETA: 0s - loss: 28.1650 - root_mean_squared_error: 5.3071\n",
      "46/46 [==============================] - 0s 2ms/step - loss: 28.0660 - root_mean_squared_error: 5.2977 - val_loss: 27.4283 - val_root_mean_squared_error: 5.2372\n",
      "\n",
      " 1/12 [=>............................] - ETA: 0s - loss: 28.2678 - root_mean_squared_error: 5.3167\n",
      "12/12 [==============================] - 0s 2ms/step - loss: 27.4283 - root_mean_squared_error: 5.2372\n",
      "\n",
      " 17%|█▋        | 2/12 [00:33<02:34, 15.47s/trial, best loss: 0.8185364603996277]INFO:tensorflow:Assets written to: C:\\Users\\DELL\\AppData\\Local\\Temp\\tmpuxpjglbl\\model\\data\\model\\assets\n"
     ]
    },
    {
     "name": "stderr",
     "output_type": "stream",
     "text": [
      "INFO:tensorflow:Assets written to: C:\\Users\\DELL\\AppData\\Local\\Temp\\tmpuxpjglbl\\model\\data\\model\\assets\n",
      "\n"
     ]
    },
    {
     "name": "stdout",
     "output_type": "stream",
     "text": [
      "Epoch 1/3                                                                       \n",
      "\n",
      " 1/46 [..............................] - ETA: 37s - loss: 31.1479 - root_mean_squared_error: 5.5810\n",
      "28/46 [=================>............] - ETA: 0s - loss: 30.1523 - root_mean_squared_error: 5.4911 \n",
      "46/46 [==============================] - 1s 8ms/step - loss: 28.2377 - root_mean_squared_error: 5.3139 - val_loss: 23.0233 - val_root_mean_squared_error: 4.7983\n",
      "\n",
      "Epoch 2/3                                                                       \n",
      "\n",
      " 1/46 [..............................] - ETA: 0s - loss: 22.4740 - root_mean_squared_error: 4.7407\n",
      "19/46 [===========>..................] - ETA: 0s - loss: 20.9450 - root_mean_squared_error: 4.5766\n",
      "42/46 [==========================>...] - ETA: 0s - loss: 18.8565 - root_mean_squared_error: 4.3424\n",
      "46/46 [==============================] - 0s 4ms/step - loss: 18.3671 - root_mean_squared_error: 4.2857 - val_loss: 14.1269 - val_root_mean_squared_error: 3.7586\n",
      "\n",
      "Epoch 3/3                                                                       \n",
      "\n",
      " 1/46 [..............................] - ETA: 0s - loss: 14.6180 - root_mean_squared_error: 3.8233\n",
      "30/46 [==================>...........] - ETA: 0s - loss: 12.0086 - root_mean_squared_error: 3.4653\n",
      "46/46 [==============================] - 0s 3ms/step - loss: 11.1607 - root_mean_squared_error: 3.3408 - val_loss: 8.5216 - val_root_mean_squared_error: 2.9192\n",
      "\n",
      " 1/12 [=>............................] - ETA: 0s - loss: 8.7931 - root_mean_squared_error: 2.9653\n",
      "12/12 [==============================] - 0s 2ms/step - loss: 8.5216 - root_mean_squared_error: 2.9192\n",
      "\n",
      " 25%|██▌       | 3/12 [00:48<02:15, 15.02s/trial, best loss: 0.8185364603996277]INFO:tensorflow:Assets written to: C:\\Users\\DELL\\AppData\\Local\\Temp\\tmpypgekzdk\\model\\data\\model\\assets\n"
     ]
    },
    {
     "name": "stderr",
     "output_type": "stream",
     "text": [
      "INFO:tensorflow:Assets written to: C:\\Users\\DELL\\AppData\\Local\\Temp\\tmpypgekzdk\\model\\data\\model\\assets\n",
      "\n"
     ]
    },
    {
     "name": "stdout",
     "output_type": "stream",
     "text": [
      "Epoch 1/3                                                                       \n",
      "\n",
      " 1/46 [..............................] - ETA: 26s - loss: 34.1400 - root_mean_squared_error: 5.8429\n",
      "36/46 [======================>.......] - ETA: 0s - loss: 9.1039 - root_mean_squared_error: 3.0173  \n",
      "46/46 [==============================] - 1s 7ms/step - loss: 8.1174 - root_mean_squared_error: 2.8491 - val_loss: 6.7218 - val_root_mean_squared_error: 2.5926\n",
      "\n",
      "Epoch 2/3                                                                       \n",
      "\n",
      " 1/46 [..............................] - ETA: 0s - loss: 6.1134 - root_mean_squared_error: 2.4725\n",
      "36/46 [======================>.......] - ETA: 0s - loss: 8.1715 - root_mean_squared_error: 2.8586\n",
      "46/46 [==============================] - 0s 3ms/step - loss: 8.2876 - root_mean_squared_error: 2.8788 - val_loss: 9.2095 - val_root_mean_squared_error: 3.0347\n",
      "\n",
      "Epoch 3/3                                                                       \n",
      "\n",
      " 1/46 [..............................] - ETA: 0s - loss: 12.2698 - root_mean_squared_error: 3.5028\n",
      "32/46 [===================>..........] - ETA: 0s - loss: 26.8178 - root_mean_squared_error: 5.1786\n",
      "46/46 [==============================] - 0s 3ms/step - loss: 21.7126 - root_mean_squared_error: 4.6597 - val_loss: 13.8150 - val_root_mean_squared_error: 3.7169\n",
      "\n",
      " 1/12 [=>............................] - ETA: 0s - loss: 7.9793 - root_mean_squared_error: 2.8248\n",
      "12/12 [==============================] - 0s 2ms/step - loss: 13.8150 - root_mean_squared_error: 3.7169\n",
      "\n",
      " 33%|███▎      | 4/12 [01:02<02:00, 15.04s/trial, best loss: 0.8185364603996277]INFO:tensorflow:Assets written to: C:\\Users\\DELL\\AppData\\Local\\Temp\\tmp21cc49cf\\model\\data\\model\\assets\n"
     ]
    },
    {
     "name": "stderr",
     "output_type": "stream",
     "text": [
      "INFO:tensorflow:Assets written to: C:\\Users\\DELL\\AppData\\Local\\Temp\\tmp21cc49cf\\model\\data\\model\\assets\n",
      "\n"
     ]
    },
    {
     "name": "stdout",
     "output_type": "stream",
     "text": [
      "Epoch 1/3                                                                       \n",
      "\n",
      " 1/46 [..............................] - ETA: 23s - loss: 42.3506 - root_mean_squared_error: 6.5077\n",
      "39/46 [========================>.....] - ETA: 0s - loss: 27.3202 - root_mean_squared_error: 5.2269 \n",
      "46/46 [==============================] - 1s 7ms/step - loss: 25.6963 - root_mean_squared_error: 5.0692 - val_loss: 15.1338 - val_root_mean_squared_error: 3.8902\n",
      "\n",
      "Epoch 2/3                                                                       \n",
      "\n",
      " 1/46 [..............................] - ETA: 0s - loss: 16.3568 - root_mean_squared_error: 4.0444\n",
      "38/46 [=======================>......] - ETA: 0s - loss: 10.2558 - root_mean_squared_error: 3.2025\n",
      "46/46 [==============================] - 0s 2ms/step - loss: 9.6220 - root_mean_squared_error: 3.1019 - val_loss: 6.0604 - val_root_mean_squared_error: 2.4618\n",
      "\n",
      "Epoch 3/3                                                                       \n",
      "\n",
      " 1/46 [..............................] - ETA: 0s - loss: 5.2407 - root_mean_squared_error: 2.2892\n",
      "27/46 [================>.............] - ETA: 0s - loss: 4.7235 - root_mean_squared_error: 2.1734\n",
      "46/46 [==============================] - ETA: 0s - loss: 4.2131 - root_mean_squared_error: 2.0526\n",
      "46/46 [==============================] - 0s 3ms/step - loss: 4.2131 - root_mean_squared_error: 2.0526 - val_loss: 3.4004 - val_root_mean_squared_error: 1.8440\n",
      "\n",
      " 1/12 [=>............................] - ETA: 0s - loss: 3.3665 - root_mean_squared_error: 1.8348\n",
      "12/12 [==============================] - 0s 2ms/step - loss: 3.4004 - root_mean_squared_error: 1.8440\n",
      "\n",
      " 42%|████▏     | 5/12 [01:16<01:41, 14.53s/trial, best loss: 0.8185364603996277]INFO:tensorflow:Assets written to: C:\\Users\\DELL\\AppData\\Local\\Temp\\tmpkuws1n0u\\model\\data\\model\\assets\n"
     ]
    },
    {
     "name": "stderr",
     "output_type": "stream",
     "text": [
      "INFO:tensorflow:Assets written to: C:\\Users\\DELL\\AppData\\Local\\Temp\\tmpkuws1n0u\\model\\data\\model\\assets\n",
      "\n"
     ]
    },
    {
     "name": "stdout",
     "output_type": "stream",
     "text": [
      "Epoch 1/3                                                                       \n",
      "\n",
      " 1/46 [..............................] - ETA: 22s - loss: 33.1611 - root_mean_squared_error: 5.7586\n",
      "43/46 [===========================>..] - ETA: 0s - loss: 26.1339 - root_mean_squared_error: 5.1121 \n",
      "46/46 [==============================] - 1s 6ms/step - loss: 25.7329 - root_mean_squared_error: 5.0728 - val_loss: 20.0611 - val_root_mean_squared_error: 4.4790\n",
      "\n",
      "Epoch 2/3                                                                       \n",
      "\n",
      " 1/46 [..............................] - ETA: 0s - loss: 19.7863 - root_mean_squared_error: 4.4482\n",
      "25/46 [===============>..............] - ETA: 0s - loss: 17.7004 - root_mean_squared_error: 4.2072\n",
      "46/46 [==============================] - 0s 3ms/step - loss: 15.7347 - root_mean_squared_error: 3.9667 - val_loss: 12.1182 - val_root_mean_squared_error: 3.4811\n",
      "\n",
      "Epoch 3/3                                                                       \n",
      "\n",
      " 1/46 [..............................] - ETA: 0s - loss: 11.1581 - root_mean_squared_error: 3.3404\n",
      "44/46 [===========================>..] - ETA: 0s - loss: 9.5669 - root_mean_squared_error: 3.0930 \n",
      "46/46 [==============================] - 0s 2ms/step - loss: 9.4593 - root_mean_squared_error: 3.0756 - val_loss: 7.3231 - val_root_mean_squared_error: 2.7061\n",
      "\n",
      " 1/12 [=>............................] - ETA: 0s - loss: 7.8176 - root_mean_squared_error: 2.7960\n",
      "12/12 [==============================] - 0s 1ms/step - loss: 7.3231 - root_mean_squared_error: 2.7061\n",
      "\n",
      " 50%|█████     | 6/12 [01:30<01:26, 14.35s/trial, best loss: 0.8185364603996277]INFO:tensorflow:Assets written to: C:\\Users\\DELL\\AppData\\Local\\Temp\\tmp9w7vkzca\\model\\data\\model\\assets\n"
     ]
    },
    {
     "name": "stderr",
     "output_type": "stream",
     "text": [
      "INFO:tensorflow:Assets written to: C:\\Users\\DELL\\AppData\\Local\\Temp\\tmp9w7vkzca\\model\\data\\model\\assets\n",
      "\n"
     ]
    },
    {
     "name": "stdout",
     "output_type": "stream",
     "text": [
      "Epoch 1/3                                                                       \n",
      "\n",
      " 1/46 [..............................] - ETA: 39s - loss: 33.7204 - root_mean_squared_error: 5.8069\n",
      "14/46 [========>.....................] - ETA: 0s - loss: 34.4834 - root_mean_squared_error: 5.8723 \n",
      "22/46 [=============>................] - ETA: 0s - loss: 34.4673 - root_mean_squared_error: 5.8709\n",
      "41/46 [=========================>....] - ETA: 0s - loss: 34.1485 - root_mean_squared_error: 5.8437\n",
      "46/46 [==============================] - 1s 13ms/step - loss: 34.0873 - root_mean_squared_error: 5.8384 - val_loss: 32.7551 - val_root_mean_squared_error: 5.7232\n",
      "\n",
      "Epoch 2/3                                                                       \n",
      "\n",
      " 1/46 [..............................] - ETA: 0s - loss: 34.2573 - root_mean_squared_error: 5.8530\n",
      "22/46 [=============>................] - ETA: 0s - loss: 32.7553 - root_mean_squared_error: 5.7232\n",
      "42/46 [==========================>...] - ETA: 0s - loss: 32.1269 - root_mean_squared_error: 5.6681\n",
      "46/46 [==============================] - 0s 4ms/step - loss: 32.0988 - root_mean_squared_error: 5.6656 - val_loss: 30.8258 - val_root_mean_squared_error: 5.5521\n",
      "\n",
      "Epoch 3/3                                                                       \n",
      "\n",
      " 1/46 [..............................] - ETA: 0s - loss: 31.3703 - root_mean_squared_error: 5.6009\n",
      "22/46 [=============>................] - ETA: 0s - loss: 30.6490 - root_mean_squared_error: 5.5362\n",
      "40/46 [=========================>....] - ETA: 0s - loss: 30.3180 - root_mean_squared_error: 5.5062\n",
      "46/46 [==============================] - 0s 4ms/step - loss: 30.2280 - root_mean_squared_error: 5.4980 - val_loss: 29.0122 - val_root_mean_squared_error: 5.3863\n",
      "\n",
      " 1/12 [=>............................] - ETA: 0s - loss: 29.1139 - root_mean_squared_error: 5.3957\n",
      "12/12 [==============================] - 0s 3ms/step - loss: 29.0122 - root_mean_squared_error: 5.3863\n",
      "\n",
      " 58%|█████▊    | 7/12 [01:45<01:11, 14.27s/trial, best loss: 0.8185364603996277]INFO:tensorflow:Assets written to: C:\\Users\\DELL\\AppData\\Local\\Temp\\tmpugofym8t\\model\\data\\model\\assets\n"
     ]
    },
    {
     "name": "stderr",
     "output_type": "stream",
     "text": [
      "INFO:tensorflow:Assets written to: C:\\Users\\DELL\\AppData\\Local\\Temp\\tmpugofym8t\\model\\data\\model\\assets\n",
      "\n"
     ]
    },
    {
     "name": "stdout",
     "output_type": "stream",
     "text": [
      "Epoch 1/3                                                                       \n",
      "\n",
      " 1/46 [..............................] - ETA: 24s - loss: 30.0278 - root_mean_squared_error: 5.4798\n",
      "31/46 [===================>..........] - ETA: 0s - loss: 2.9426 - root_mean_squared_error: 1.7154  \n",
      "46/46 [==============================] - 1s 8ms/step - loss: 2.1966 - root_mean_squared_error: 1.4821 - val_loss: 0.5679 - val_root_mean_squared_error: 0.7536\n",
      "\n",
      "Epoch 2/3                                                                       \n",
      "\n",
      " 1/46 [..............................] - ETA: 0s - loss: 0.4801 - root_mean_squared_error: 0.6929\n",
      "19/46 [===========>..................] - ETA: 0s - loss: 0.5927 - root_mean_squared_error: 0.7698\n",
      "40/46 [=========================>....] - ETA: 0s - loss: 0.5953 - root_mean_squared_error: 0.7715\n",
      "46/46 [==============================] - 0s 5ms/step - loss: 0.5945 - root_mean_squared_error: 0.7710 - val_loss: 0.5304 - val_root_mean_squared_error: 0.7283\n",
      "\n",
      "Epoch 3/3                                                                       \n",
      "\n",
      " 1/46 [..............................] - ETA: 0s - loss: 0.7997 - root_mean_squared_error: 0.8943\n",
      "23/46 [==============>...............] - ETA: 0s - loss: 0.5698 - root_mean_squared_error: 0.7548\n",
      "46/46 [==============================] - 0s 3ms/step - loss: 0.5620 - root_mean_squared_error: 0.7496 - val_loss: 0.5137 - val_root_mean_squared_error: 0.7167\n",
      "\n",
      " 1/12 [=>............................] - ETA: 0s - loss: 0.4726 - root_mean_squared_error: 0.6874\n",
      "12/12 [==============================] - 0s 3ms/step - loss: 0.5137 - root_mean_squared_error: 0.7167\n",
      "\n",
      " 67%|██████▋   | 8/12 [01:59<00:57, 14.39s/trial, best loss: 0.8185364603996277]INFO:tensorflow:Assets written to: C:\\Users\\DELL\\AppData\\Local\\Temp\\tmpod2ue5_n\\model\\data\\model\\assets\n"
     ]
    },
    {
     "name": "stderr",
     "output_type": "stream",
     "text": [
      "INFO:tensorflow:Assets written to: C:\\Users\\DELL\\AppData\\Local\\Temp\\tmpod2ue5_n\\model\\data\\model\\assets\n",
      "\n"
     ]
    },
    {
     "name": "stdout",
     "output_type": "stream",
     "text": [
      "Epoch 1/3                                                                       \n",
      "\n",
      " 1/46 [..............................] - ETA: 27s - loss: 36.6949 - root_mean_squared_error: 6.0576\n",
      "38/46 [=======================>......] - ETA: 0s - loss: 3.7828 - root_mean_squared_error: 1.9449  \n",
      "46/46 [==============================] - 1s 7ms/step - loss: 3.2903 - root_mean_squared_error: 1.8139 - val_loss: 0.9740 - val_root_mean_squared_error: 0.9869\n",
      "\n",
      "Epoch 2/3                                                                       \n",
      "\n",
      " 1/46 [..............................] - ETA: 0s - loss: 0.9931 - root_mean_squared_error: 0.9965\n",
      "37/46 [=======================>......] - ETA: 0s - loss: 0.7679 - root_mean_squared_error: 0.8763\n",
      "46/46 [==============================] - 0s 2ms/step - loss: 0.7609 - root_mean_squared_error: 0.8723 - val_loss: 0.6921 - val_root_mean_squared_error: 0.8319\n",
      "\n",
      "Epoch 3/3                                                                       \n",
      "\n",
      " 1/46 [..............................] - ETA: 0s - loss: 0.6423 - root_mean_squared_error: 0.8014\n",
      "41/46 [=========================>....] - ETA: 0s - loss: 0.6131 - root_mean_squared_error: 0.7830\n",
      "46/46 [==============================] - 0s 2ms/step - loss: 0.6095 - root_mean_squared_error: 0.7807 - val_loss: 0.5718 - val_root_mean_squared_error: 0.7562\n",
      "\n",
      " 1/12 [=>............................] - ETA: 0s - loss: 0.5137 - root_mean_squared_error: 0.7168\n",
      "12/12 [==============================] - 0s 3ms/step - loss: 0.5718 - root_mean_squared_error: 0.7562\n",
      "\n",
      " 75%|███████▌  | 9/12 [02:14<00:43, 14.59s/trial, best loss: 0.7167361974716187]INFO:tensorflow:Assets written to: C:\\Users\\DELL\\AppData\\Local\\Temp\\tmp7_hfh7mc\\model\\data\\model\\assets\n"
     ]
    },
    {
     "name": "stderr",
     "output_type": "stream",
     "text": [
      "INFO:tensorflow:Assets written to: C:\\Users\\DELL\\AppData\\Local\\Temp\\tmp7_hfh7mc\\model\\data\\model\\assets\n",
      "\n"
     ]
    },
    {
     "name": "stdout",
     "output_type": "stream",
     "text": [
      "Epoch 1/3                                                                        \n",
      "\n",
      " 1/46 [..............................] - ETA: 23s - loss: 37.7845 - root_mean_squared_error: 6.1469\n",
      "37/46 [=======================>......] - ETA: 0s - loss: 26.3294 - root_mean_squared_error: 5.1312 \n",
      "46/46 [==============================] - 1s 7ms/step - loss: 23.7213 - root_mean_squared_error: 4.8705 - val_loss: 11.4924 - val_root_mean_squared_error: 3.3900\n",
      "\n",
      "Epoch 2/3                                                                        \n",
      "\n",
      " 1/46 [..............................] - ETA: 0s - loss: 11.2389 - root_mean_squared_error: 3.3525\n",
      "34/46 [=====================>........] - ETA: 0s - loss: 7.4436 - root_mean_squared_error: 2.7283 \n",
      "46/46 [==============================] - 0s 3ms/step - loss: 6.5639 - root_mean_squared_error: 2.5620 - val_loss: 3.7015 - val_root_mean_squared_error: 1.9239\n",
      "\n",
      "Epoch 3/3                                                                        \n",
      "\n",
      " 1/46 [..............................] - ETA: 0s - loss: 4.1982 - root_mean_squared_error: 2.0490\n",
      "20/46 [============>.................] - ETA: 0s - loss: 3.2531 - root_mean_squared_error: 1.8036\n",
      "39/46 [========================>.....] - ETA: 0s - loss: 2.8738 - root_mean_squared_error: 1.6952\n",
      "46/46 [==============================] - 0s 4ms/step - loss: 2.7863 - root_mean_squared_error: 1.6692 - val_loss: 2.4845 - val_root_mean_squared_error: 1.5762\n",
      "\n",
      " 1/12 [=>............................] - ETA: 0s - loss: 2.2299 - root_mean_squared_error: 1.4933\n",
      "12/12 [==============================] - 0s 2ms/step - loss: 2.4845 - root_mean_squared_error: 1.5762\n",
      "\n",
      " 83%|████████▎ | 10/12 [02:27<00:28, 14.28s/trial, best loss: 0.7167361974716187]INFO:tensorflow:Assets written to: C:\\Users\\DELL\\AppData\\Local\\Temp\\tmp21qtkf6z\\model\\data\\model\\assets\n"
     ]
    },
    {
     "name": "stderr",
     "output_type": "stream",
     "text": [
      "INFO:tensorflow:Assets written to: C:\\Users\\DELL\\AppData\\Local\\Temp\\tmp21qtkf6z\\model\\data\\model\\assets\n",
      "\n"
     ]
    },
    {
     "name": "stdout",
     "output_type": "stream",
     "text": [
      "Epoch 1/3                                                                        \n",
      "\n",
      " 1/46 [..............................] - ETA: 24s - loss: 31.8279 - root_mean_squared_error: 5.6416\n",
      "39/46 [========================>.....] - ETA: 0s - loss: 28.0489 - root_mean_squared_error: 5.2961 \n",
      "46/46 [==============================] - 1s 7ms/step - loss: 27.4487 - root_mean_squared_error: 5.2392 - val_loss: 23.3783 - val_root_mean_squared_error: 4.8351\n",
      "\n",
      "Epoch 2/3                                                                        \n",
      "\n",
      " 1/46 [..............................] - ETA: 0s - loss: 24.5885 - root_mean_squared_error: 4.9587\n",
      "20/46 [============>.................] - ETA: 0s - loss: 21.8157 - root_mean_squared_error: 4.6707\n",
      "44/46 [===========================>..] - ETA: 0s - loss: 19.8455 - root_mean_squared_error: 4.4548\n",
      "46/46 [==============================] - 0s 3ms/step - loss: 19.7356 - root_mean_squared_error: 4.4425 - val_loss: 16.8939 - val_root_mean_squared_error: 4.1102\n",
      "\n",
      "Epoch 3/3                                                                        \n",
      "\n",
      " 1/46 [..............................] - ETA: 0s - loss: 16.8175 - root_mean_squared_error: 4.1009\n",
      "39/46 [========================>.....] - ETA: 0s - loss: 14.6978 - root_mean_squared_error: 3.8338\n",
      "46/46 [==============================] - 0s 2ms/step - loss: 14.2598 - root_mean_squared_error: 3.7762 - val_loss: 12.2657 - val_root_mean_squared_error: 3.5022\n",
      "\n",
      " 1/12 [=>............................] - ETA: 0s - loss: 11.9756 - root_mean_squared_error: 3.4606\n",
      "12/12 [==============================] - 0s 2ms/step - loss: 12.2657 - root_mean_squared_error: 3.5022\n",
      "\n",
      " 92%|█████████▏| 11/12 [02:42<00:14, 14.40s/trial, best loss: 0.7167361974716187]INFO:tensorflow:Assets written to: C:\\Users\\DELL\\AppData\\Local\\Temp\\tmpx4szoz37\\model\\data\\model\\assets\n"
     ]
    },
    {
     "name": "stderr",
     "output_type": "stream",
     "text": [
      "INFO:tensorflow:Assets written to: C:\\Users\\DELL\\AppData\\Local\\Temp\\tmpx4szoz37\\model\\data\\model\\assets\n",
      "\n"
     ]
    },
    {
     "name": "stdout",
     "output_type": "stream",
     "text": [
      "100%|██████████| 12/12 [02:55<00:00, 14.64s/trial, best loss: 0.7167361974716187]\n",
      "INFO:tensorflow:Assets written to: C:\\Users\\DELL\\AppData\\Local\\Temp\\tmpy1yt71wq\\model\\data\\model\\assets\n"
     ]
    },
    {
     "name": "stderr",
     "output_type": "stream",
     "text": [
      "INFO:tensorflow:Assets written to: C:\\Users\\DELL\\AppData\\Local\\Temp\\tmpy1yt71wq\\model\\data\\model\\assets\n",
      "\n"
     ]
    },
    {
     "name": "stdout",
     "output_type": "stream",
     "text": [
      "Best parameters: {'lr': 0.06684123135810843, 'momentum': 0.567042058031489}\n",
      "Best eval rmse: 0.7167361974716187\n"
     ]
    }
   ],
   "source": [
    "mlflow.set_experiment(\"/wine-quality\")\n",
    "\n",
    "with mlflow.start_run():\n",
    "    # Conduct the hp search\n",
    "    trials = Trials()\n",
    "    best = fmin(\n",
    "        fn = objective,\n",
    "        space = space,\n",
    "        algo = tpe.suggest,\n",
    "        max_evals = 12,\n",
    "        trials = trials\n",
    "    )\n",
    "    \n",
    "    # Fetch the details of the best run\n",
    "    best_run = sorted(trials.results, key = lambda x: x[\"loss\"])[0]\n",
    "    \n",
    "    # Log the best parameters, loss, and model.\n",
    "    mlflow.log_params(best)\n",
    "    mlflow.log_metric(\"eval_rmse\", best_run[\"loss\"])\n",
    "    mlflow.tensorflow.log_model(best_run[\"model\"], \"model\", signature = signature)\n",
    "    \n",
    "    # Print the best parameters and coresponding loss.\n",
    "    print(f\"Best parameters: {best}\")\n",
    "    print(f\"Best eval rmse: {best_run['loss']}\")"
   ]
  }
 ],
 "metadata": {
  "kernelspec": {
   "display_name": "base",
   "language": "python",
   "name": "python3"
  },
  "language_info": {
   "codemirror_mode": {
    "name": "ipython",
    "version": 3
   },
   "file_extension": ".py",
   "mimetype": "text/x-python",
   "name": "python",
   "nbconvert_exporter": "python",
   "pygments_lexer": "ipython3",
   "version": "3.11.5"
  }
 },
 "nbformat": 4,
 "nbformat_minor": 2
}
